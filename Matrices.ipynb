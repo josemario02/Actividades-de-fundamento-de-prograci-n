{
  "nbformat": 4,
  "nbformat_minor": 0,
  "metadata": {
    "colab": {
      "private_outputs": true,
      "provenance": [],
      "include_colab_link": true
    },
    "kernelspec": {
      "name": "python3",
      "display_name": "Python 3"
    },
    "language_info": {
      "name": "python"
    }
  },
  "cells": [
    {
      "cell_type": "markdown",
      "metadata": {
        "id": "view-in-github",
        "colab_type": "text"
      },
      "source": [
        "<a href=\"https://colab.research.google.com/github/josemario02/Actividades-de-fundamento-de-prograci-n/blob/main/Matrices.ipynb\" target=\"_parent\"><img src=\"https://colab.research.google.com/assets/colab-badge.svg\" alt=\"Open In Colab\"/></a>"
      ]
    },
    {
      "cell_type": "code",
      "execution_count": null,
      "metadata": {
        "id": "UjJDVwHprwMI"
      },
      "outputs": [],
      "source": [
        "matrix = []\n",
        "rows = 3\n",
        "columns = 3\n",
        "counter = 1\n",
        "for i in range(rows):\n",
        "  temp_row = []\n",
        "  for j in range(columns):\n",
        "    temp_row.append(counter)\n",
        "    # temp.append(\" _ \")\n",
        "    counter += 1\n",
        "  matrix.append(temp_row)\n",
        "\n",
        "# print(matrix)\n",
        "\n",
        "matrix_rows = len(matrix)\n",
        "if matrix_rows > 0:\n",
        "  matrix_columns = len(matrix[0])\n",
        "for i in range(matrix_rows):\n",
        "  for j in range(matrix_columns):\n",
        "    print(matrix[i][j], end=\" \")\n",
        "  print()\n"
      ]
    },
    {
      "cell_type": "code",
      "source": [
        "def create_board(rows, columns):\n",
        "  board = []\n",
        "  for i in range(rows):\n",
        "    temp_row = []\n",
        "    for j in range(columns):\n",
        "      temp_row.append(0)\n",
        "    board.append(temp_row)\n",
        "  return board\n",
        "\n",
        "def show_board(board):\n",
        "  print()\n",
        "  board_rows = len(board)\n",
        "  board_columns = len(board[0])\n",
        "  for i in range(board_rows):\n",
        "    for j in range(board_columns):\n",
        "      print(board[i][j], end=\" \")\n",
        "    print()\n",
        "\n",
        "def board_txt(board):\n",
        "  txt = ''\n",
        "  board_rows = len(board)\n",
        "  board_columns = len(board[0])\n",
        "  for i in range(board_rows):\n",
        "    for j in range(board_columns):\n",
        "      txt += str(board[i][j]) + \" \"\n",
        "    txt += '\\n'\n",
        "  return txt\n",
        "\n",
        "board = create_board(3, 3)\n",
        "show_board(board)\n",
        "board[1][1] = \"x\"\n",
        "show_board(board)\n",
        "board[0][0] = \"x\"\n",
        "show_board(board)\n",
        "board[2][2] = \"x\"\n",
        "show_board(board)\n",
        "my_board = board_txt(board)\n",
        "print()\n",
        "print(my_board)"
      ],
      "metadata": {
        "id": "xmYjWoltrxfY"
      },
      "execution_count": null,
      "outputs": []
    },
    {
      "cell_type": "code",
      "source": [
        "from random import choice, sample, randint\n",
        "\n",
        "random_n = [randint(-10, 10) for i in range(10)]\n",
        "print(random_n)\n",
        "print(choice(random_n))\n",
        "print(sample(random_n, 2))\n",
        "# sample = 3\n",
        "print(sample(random_n, 2))"
      ],
      "metadata": {
        "id": "AHprpCPq1zfk"
      },
      "execution_count": null,
      "outputs": []
    },
    {
      "cell_type": "code",
      "source": [
        "path = '/content/sample_data/secret_message.txt'\n",
        "with open(path) as file_info:\n",
        "  message = file_info.read()\n",
        "print(message)\n"
      ],
      "metadata": {
        "id": "w4J_nxvEtoxa"
      },
      "execution_count": null,
      "outputs": []
    },
    {
      "cell_type": "code",
      "source": [
        "path = '/content/sample_data/secret_song.txt'\n",
        "with open(path) as file_info:\n",
        "  for line in file_info.readlines():\n",
        "    print(line, end='')"
      ],
      "metadata": {
        "id": "_nBq0hDWtqLw"
      },
      "execution_count": null,
      "outputs": []
    },
    {
      "cell_type": "code",
      "source": [
        "my_board = create_board(4, 4)\n",
        "my_board[2][2] = 'X'\n",
        "my_board[1][1] = 'X'\n",
        "show_board(my_board)\n",
        "my_board = board_txt(my_board)\n",
        "\n",
        "with open('/content/sample_data/my_text.txt', 'w') as file_info:\n",
        "  file_info.write(my_board)"
      ],
      "metadata": {
        "id": "ArTBCGTVtqN-"
      },
      "execution_count": null,
      "outputs": []
    },
    {
      "cell_type": "code",
      "source": [
        "my_board = create_board(5, 5)\n",
        "my_board[2][3] = 'X'\n",
        "my_board[1][2] = 'X'\n",
        "show_board(my_board)\n",
        "my_board = board_txt(my_board)\n",
        "\n",
        "with open('/content/sample_data/my_text.txt', 'a') as file_info:\n",
        "  file_info.write(my_board)"
      ],
      "metadata": {
        "id": "rZPV7pxttqQb"
      },
      "execution_count": null,
      "outputs": []
    },
    {
      "cell_type": "code",
      "source": [
        "name = 'Miguel Angel Ortiz Padilla'\n",
        "path = '/content/sample_data/new_text.txt'\n",
        "with open(path, 'w') as file_info:\n",
        "  file_info.write(name)\n",
        "\n",
        "with open(path, 'a') as file_info:\n",
        "  for i in range(10):\n",
        "    file_info.write(\"Gato \" * i + '\\n')\n",
        "\n",
        "with open(path, 'r') as file_info:\n",
        "  content = file_info.read()\n",
        "print(content)"
      ],
      "metadata": {
        "id": "pioN04u8tqSv"
      },
      "execution_count": null,
      "outputs": []
    },
    {
      "cell_type": "code",
      "source": [],
      "metadata": {
        "id": "b84UySB3PvLA"
      },
      "execution_count": null,
      "outputs": []
    },
    {
      "cell_type": "code",
      "source": [
        "import csv\n",
        "ages = []\n",
        "with open('/content/sample_data/edades.csv') as file_info:\n",
        "  file_reader = csv.DictReader(file_info)\n",
        "  for row in file_reader:\n",
        "    ages.append(int(row[\"Age\"]))\n",
        "\n",
        "print(ages)"
      ],
      "metadata": {
        "id": "5JSz_Ii7tqVK"
      },
      "execution_count": null,
      "outputs": []
    },
    {
      "cell_type": "code",
      "source": [
        "import random\n",
        "\n",
        "path = './my_random_numbers.txt'\n",
        "def save_random(path):\n",
        "    n = random.randint(0, 10)\n",
        "    try:\n",
        "        with open(path, 'r') as file_info:\n",
        "            content = file_info.readlines()\n",
        "\n",
        "            s = int(content[-1].split(\", \")[-1]) + n\n",
        "            line = str(n) + \", \" + str(s)\n",
        "        with open(path, 'a') as file_info:\n",
        "            file_info.write(line + \"\\n\")\n",
        "    except FileNotFoundError:\n",
        "        with open(path, 'w') as file_info:\n",
        "            file_info.write(str(n) + \", \" + str(n) + \"\\n\")\n",
        "\n",
        "for i in range(10):\n",
        "   save_random(path)\n",
        "\n",
        "with open(path) as file_info:\n",
        "    print(file_info.read())"
      ],
      "metadata": {
        "id": "ApEHVd2ctqXf"
      },
      "execution_count": null,
      "outputs": []
    },
    {
      "cell_type": "code",
      "source": [
        "with open('/content/sample_data/secret_message.txt') as file_info:\n",
        "  message = file_info.read()\n",
        "print(message)"
      ],
      "metadata": {
        "id": "Hv90QTW292UV"
      },
      "execution_count": null,
      "outputs": []
    },
    {
      "cell_type": "code",
      "source": [
        "with open('/content/sample_data/secret_song.txt') as file_info:\n",
        "  for line in file_info.readlines():\n",
        "    print(line)"
      ],
      "metadata": {
        "id": "jwh1okrToY6s"
      },
      "execution_count": null,
      "outputs": []
    },
    {
      "cell_type": "code",
      "source": [
        "with open('/content/sample_data/secret_song.txt') as file_info:\n",
        "  first_line = file_info.readline()\n",
        "  second_line = file_info.readline()\n",
        "print(first_line)\n",
        "print(second_line)"
      ],
      "metadata": {
        "id": "sHgCPR5cpCoR"
      },
      "execution_count": null,
      "outputs": []
    },
    {
      "cell_type": "code",
      "source": [
        "message = \"Mikheltodd\"\n",
        "with open('/content/sample_data/my_text.txt', 'w') as file_info:\n",
        "  file_info.write(message)"
      ],
      "metadata": {
        "id": "FhHIkeHVpWZd"
      },
      "execution_count": null,
      "outputs": []
    },
    {
      "cell_type": "code",
      "source": [
        "with open('/content/sample_data/my_text.txt', 'a') as file_info:\n",
        "  file_info.write(\"\\nMigue\")"
      ],
      "metadata": {
        "id": "lISFCmOkptrJ"
      },
      "execution_count": null,
      "outputs": []
    },
    {
      "cell_type": "code",
      "source": [
        "with open('/content/sample_data/users_data.csv') as file_info:\n",
        "  print(file_info.read())"
      ],
      "metadata": {
        "id": "A7Fd49nqp6Lt"
      },
      "execution_count": null,
      "outputs": []
    },
    {
      "cell_type": "code",
      "source": [
        "import csv\n",
        "ages = []\n",
        "with open('/content/sample_data/users_data.csv') as file_info:\n",
        "  file_reader = csv.DictReader(file_info)\n",
        "  for row in file_reader:\n",
        "    ages.append(row[\"Age\"])\n",
        "\n",
        "for age in ages:\n",
        "  print(age, end=\" \")"
      ],
      "metadata": {
        "id": "4czPLFwGqiou"
      },
      "execution_count": null,
      "outputs": []
    },
    {
      "cell_type": "code",
      "source": [
        "#########################\n",
        "import random\n",
        "\n",
        "path = './my_random_numbers.txt'\n",
        "def save_random(path):\n",
        "    n = random.randint(0, 10)\n",
        "    try:\n",
        "        with open(path, 'r') as file_info:\n",
        "            content = file_info.readlines()\n",
        "\n",
        "            s = int(content[-1].split(\", \")[-1]) + n\n",
        "            line = str(n) + \", \" + str(s)\n",
        "        with open(path, 'a') as file_info:\n",
        "            file_info.write(line + \"\\n\")\n",
        "    except FileNotFoundError:\n",
        "        with open(path, 'w') as file_info:\n",
        "            file_info.write(str(n) + \", \" + str(n) + \"\\n\")\n",
        "\n",
        "for i in range(10):\n",
        "   save_random(path)\n",
        "\n",
        "with open(path) as file_info:\n",
        "    print(file_info.read())\n",
        "#########################"
      ],
      "metadata": {
        "id": "cd2_O4C8Z6e5"
      },
      "execution_count": null,
      "outputs": []
    },
    {
      "cell_type": "code",
      "source": [
        "import random\n",
        "\n",
        "matrix = []\n",
        "rows = 3\n",
        "columns = 3\n",
        "counter = 1\n",
        "for i in range(rows):\n",
        "  temp_row = []\n",
        "  for j in range(columns):\n",
        "    temp_row.append(counter)\n",
        "    # temp.append(\" _ \")\n",
        "    counter += 1\n",
        "  matrix.append(temp_row)\n",
        "\n",
        "# print(matrix)\n",
        "\n",
        "matrix_rows = len(matrix)\n",
        "if matrix_rows > 0:\n",
        "  matrix_columns = len(matrix[0])\n",
        "for i in range(matrix_rows):\n",
        "  for j in range(matrix_columns):\n",
        "    print(matrix[i][j], end=\" \")\n",
        "  print()\n",
        "\n"
      ],
      "metadata": {
        "id": "X9YPe2Labv6D"
      },
      "execution_count": null,
      "outputs": []
    },
    {
      "cell_type": "code",
      "source": [
        "import random\n",
        "import time\n",
        "from IPython.display import clear_output\n",
        "import copy\n",
        "\n",
        "rows = 2\n",
        "columns = 3\n",
        "cards_back = [[\"|_|\" for i in range(columns)] for i in range(rows)]\n",
        "options = ['J', 'J', 'Q', 'Q', 'K', 'K']\n",
        "game_cards = [[\"\" for i in range(columns)] for i in range (rows)]\n",
        "\n",
        "for i in range(len(game_cards)):\n",
        "  for j in range(len(game_cards[i])):\n",
        "    random_card = random.choice(options)\n",
        "    game_cards[i][j] = '|' + random_card + '|'\n",
        "    options.remove(random_card)\n",
        "\n",
        "\n",
        "def show_cards(cards):\n",
        "  for i in range(len(cards)):\n",
        "    for j in range(len(cards[i])):\n",
        "      print(cards[i][j], end=\" \")\n",
        "    print(\"\\n\")\n",
        "\n",
        "t = 2\n",
        "show_cards(cards_back)\n",
        "time.sleep(t)\n",
        "clear_output()\n",
        "show_cards(game_cards)\n",
        "time.sleep(t)\n",
        "clear_output()\n",
        "show_cards(cards_back)\n",
        "\n",
        "row_1 = int(input(\"Indique la fila:  \"))\n",
        "column_1 = int(input(\"Indique la columna: \"))\n",
        "\n",
        "temp_cards = copy.deepcopy(cards_back)\n",
        "temp_cards[row_1][column_1] = game_cards[row_1][column_1]\n",
        "clear_output()\n",
        "show_cards(temp_cards)\n",
        "\n",
        "row_2 = int(input(\"Indique la fila: \"))\n",
        "column_2 = int(input(\"Indique la columna: \"))\n",
        "\n",
        "temp_cards = copy.deepcopy(cards_back)\n",
        "temp_cards[row_2][column_2] = game_cards[row_2][column_2]\n",
        "clear_output()\n",
        "show_cards(temp_cards)\n",
        "\n"
      ],
      "metadata": {
        "id": "h-1D2DuxnWAO"
      },
      "execution_count": null,
      "outputs": []
    },
    {
      "cell_type": "code",
      "source": [
        "import random\n",
        "cartas = [(fila, columna) for fila in range(2) for columna in range(7)]\n",
        "random.shuffle(cartas)\n",
        "seleccionadas = []\n",
        "def mostrar_estado_juego():\n",
        "    print(\"Cartas:\")\n",
        "    for fila in range(2):\n",
        "        for columna in range(7):\n",
        "            carta_encontrada = False\n",
        "            for carta in seleccionadas:\n",
        "                if carta[0] == fila and carta[1] == columna:\n",
        "                    print(carta[2], end=' ')\n",
        "                    carta_encontrada = True\n",
        "                    break\n",
        "            if not carta_encontrada:\n",
        "                print('🂠', end=' ')\n",
        "        print()\n",
        "    print()\n",
        "while len(cartas) > 0:\n",
        "    mostrar_estado_juego()\n",
        "    seleccion = []\n",
        "    while len(seleccion) < 2:\n",
        "        fila = int(input(\"Selecciona la fila (0 o 1): \"))\n",
        "        columna = int(input(\"Selecciona la columna (0-6): \"))\n",
        "        carta = (fila, columna)\n",
        "        if carta in seleccionadas:\n",
        "            print(\"¡Esa carta ya ha sido seleccionada!\")\n",
        "        elif carta[0] not in range(2) or carta[1] not in range(7):\n",
        "            print(\"La fila o columna seleccionada no es válida.\")\n",
        "        else:\n",
        "            seleccion.append(carta)\n",
        "            print(\"Carta seleccionada:\", (fila * 7) + columna)\n",
        "    seleccionadas.extend(seleccion)\n",
        "    print()\n",
        "    if (fila * 7) + columna == (seleccion[0][0] * 7) + seleccion[0][1]:\n",
        "        print(\"¡Cartas iguales! Se eliminan del mazo.\")\n",
        "        cartas.remove((seleccion[0][0], seleccion[0][1]))\n",
        "        cartas.remove((seleccion[1][0], seleccion[1][1]))\n",
        "        seleccionadas.remove(seleccion[0])\n",
        "        seleccionadas.remove(seleccion[1])\n",
        "    else:\n",
        "        print(\"Las cartas no son iguales. Se vuelven a mezclar.\")\n",
        "        random.shuffle(cartas)\n",
        "        seleccionadas = []\n",
        "mostrar_estado_juego"
      ],
      "metadata": {
        "id": "vAdHTjrWuWE_"
      },
      "execution_count": null,
      "outputs": []
    }
  ]
}