{
  "cells": [
    {
      "cell_type": "markdown",
      "metadata": {
        "id": "view-in-github",
        "colab_type": "text"
      },
      "source": [
        "<a href=\"https://colab.research.google.com/github/josemario02/Actividades-de-fundamento-de-prograci-n/blob/main/calorias.ipynb\" target=\"_parent\"><img src=\"https://colab.research.google.com/assets/colab-badge.svg\" alt=\"Open In Colab\"/></a>"
      ]
    },
    {
      "cell_type": "code",
      "source": [
        "import numpy as np\n",
        "\n",
        "calorie_stats = np.genfromtxt('/content/sample_data/cereal_csv', delimiter=',')\n",
        "\n",
        "average_calories = np.mean(calorie_stats)\n",
        "print(\"El promedio de calorías de la competencia es:\", average_calories)\n",
        "\n",
        "calorie_stats = np.sort(calorie_stats)\n",
        "print(\"Datos organizados:\", calorie_stats)\n",
        "median_calories = np.median(calorie_stats)\n",
        "print(\"La mediana de calorías de la competencia es:\", median_calories)\n",
        "\n",
        "std_calories = np.std(calorie_stats)\n",
        "print(\"La desviación estándar de calorías de la competencia es:\", std_calories)"
      ],
      "metadata": {
        "id": "ph6D0IDzDDFI",
        "outputId": "c1e80450-90cc-4f38-f3cd-bcc56e03cffe",
        "colab": {
          "base_uri": "https://localhost:8080/"
        }
      },
      "execution_count": 4,
      "outputs": [
        {
          "output_type": "stream",
          "name": "stdout",
          "text": [
            "El promedio de calorías de la competencia es: 106.88311688311688\n",
            "Datos organizados: [ 50.  50.  50.  70.  70.  80.  90.  90.  90.  90.  90.  90.  90. 100.\n",
            " 100. 100. 100. 100. 100. 100. 100. 100. 100. 100. 100. 100. 100. 100.\n",
            " 100. 100. 110. 110. 110. 110. 110. 110. 110. 110. 110. 110. 110. 110.\n",
            " 110. 110. 110. 110. 110. 110. 110. 110. 110. 110. 110. 110. 110. 110.\n",
            " 110. 110. 110. 120. 120. 120. 120. 120. 120. 120. 120. 120. 120. 130.\n",
            " 130. 140. 140. 140. 150. 150. 160.]\n",
            "La mediana de calorías de la competencia es: 110.0\n",
            "La desviación estándar de calorías de la competencia es: 19.35718533390827\n"
          ]
        }
      ]
    }
  ],
  "metadata": {
    "colab": {
      "name": "Te damos la bienvenida a Colaboratory",
      "provenance": [],
      "include_colab_link": true
    },
    "kernelspec": {
      "display_name": "Python 3",
      "name": "python3"
    }
  },
  "nbformat": 4,
  "nbformat_minor": 0
}