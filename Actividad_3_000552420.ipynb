{
  "nbformat": 4,
  "nbformat_minor": 0,
  "metadata": {
    "colab": {
      "provenance": [],
      "authorship_tag": "ABX9TyPwRPQOOQlzx70FPlhkTIZU",
      "include_colab_link": true
    },
    "kernelspec": {
      "name": "python3",
      "display_name": "Python 3"
    },
    "language_info": {
      "name": "python"
    }
  },
  "cells": [
    {
      "cell_type": "markdown",
      "metadata": {
        "id": "view-in-github",
        "colab_type": "text"
      },
      "source": [
        "<a href=\"https://colab.research.google.com/github/josemario02/Actividades-de-fundamento-de-prograci-n/blob/main/Actividad_3_000552420.ipynb\" target=\"_parent\"><img src=\"https://colab.research.google.com/assets/colab-badge.svg\" alt=\"Open In Colab\"/></a>"
      ]
    },
    {
      "cell_type": "markdown",
      "source": [
        "## Actividad Evaluativa 3\n",
        "\n",
        " *Fecha:* 22 de marzo de 2024\n",
        "\n",
        " *Presentado por:* Jose Mario Ramos Araujo\n",
        "\n",
        " *Email:* jose.ramosa@upb.edu.co"
      ],
      "metadata": {
        "id": "rzenJdnreNWn"
      }
    },
    {
      "cell_type": "code",
      "source": [
        "# prompt: : Filtrar señales utilizando la función de probabilidad de la campana de Gauss.\n",
        "# • Descripción: Desarrolla un algoritmo que simule el filtrado de señales utilizando la función de densidad\n",
        "# de probabilidad (fdp) de la campana de Gauss (distribución normal). El sistema debe recibir como\n",
        "# entrada la frecuencia de una señal y determinar si esta pasa el filtro o es bloqueada, según la\n",
        "# probabilidad acumula\n",
        "\n",
        "import numpy as np\n",
        "\n",
        "def gauss_filter(frequency, mean, std):\n",
        "  \"\"\"\n",
        "  Filters a signal based on its frequency using the Gaussian distribution.\n",
        "\n",
        "  Args:\n",
        "    frequency: The frequency of the signal.\n",
        "    mean: The mean of the Gaussian distribution.\n",
        "    std: The standard deviation of the Gaussian distribution.\n",
        "\n",
        "  Returns:\n",
        "    True if the signal passes the filter, False otherwise.\n",
        "  \"\"\"\n",
        "\n",
        "  # Calculate the probability density of the signal's frequency.\n",
        "  pdf = (1 / (std * np.sqrt(2 * np.pi))) * np.exp(-((frequency - mean) ** 2) / (2 * std ** 2))\n",
        "\n",
        "  # Calculate the cumulative distribution function (cdf) of the Gaussian distribution.\n",
        "  cdf = (1 + np.erf((frequency - mean) / (std * np.sqrt(2)))) / 2\n",
        "\n",
        "  # Generate a random number between 0 and 1.\n",
        "  random_number = np.random.uniform(0, 1)\n",
        "\n",
        "  # If the random number is less than the cdf, the signal passes the filter.\n",
        "  if random_number < cdf:\n",
        "    return True\n",
        "  else:\n",
        "    return False\n",
        "\n",
        "# Example usage:\n",
        "frequency = 100  # Hz\n",
        "mean = 100  # Hz\n",
        "std = 5  # Hz\n",
        "\n",
        "if gauss_filter(frequency, mean, std):\n",
        "  print(\"Signal passed the filter.\")\n",
        "else:\n",
        "  print(\"Signal blocked by the filter.\")\n"
      ],
      "metadata": {
        "id": "J5RL7TDTeuYK"
      },
      "execution_count": null,
      "outputs": []
    },
    {
      "cell_type": "code",
      "source": [],
      "metadata": {
        "id": "SALFWC4xiaJX"
      },
      "execution_count": null,
      "outputs": []
    }
  ]
}