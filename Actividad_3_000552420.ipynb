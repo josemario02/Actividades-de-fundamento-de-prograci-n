{
  "nbformat": 4,
  "nbformat_minor": 0,
  "metadata": {
    "colab": {
      "provenance": [],
      "authorship_tag": "ABX9TyPhhbf8hZnpOcZTdVsyCP0V",
      "include_colab_link": true
    },
    "kernelspec": {
      "name": "python3",
      "display_name": "Python 3"
    },
    "language_info": {
      "name": "python"
    }
  },
  "cells": [
    {
      "cell_type": "markdown",
      "metadata": {
        "id": "view-in-github",
        "colab_type": "text"
      },
      "source": [
        "<a href=\"https://colab.research.google.com/github/josemario02/Actividades-de-fundamento-de-prograci-n/blob/main/Actividad_3_000552420.ipynb\" target=\"_parent\"><img src=\"https://colab.research.google.com/assets/colab-badge.svg\" alt=\"Open In Colab\"/></a>"
      ]
    },
    {
      "cell_type": "markdown",
      "source": [
        "## Actividad Evaluativa 3\n",
        "\n",
        " *Fecha:* 22 de marzo de 2024\n",
        "\n",
        " *Presentado por:* Jose Mario Ramos Araujo\n",
        "\n",
        " *Email:* jose.ramosa@upb.edu.co"
      ],
      "metadata": {
        "id": "rzenJdnreNWn"
      }
    },
    {
      "cell_type": "code",
      "source": [
        "import math\n",
        "\n",
        "media_distribucion = 1000\n",
        "desviacion = 300\n",
        "umbral = 0.3\n",
        "\n",
        "frecuencia_señal = int(input(\"ingrese un valor de frecuencia no negativo: \"))\n",
        "\n",
        "prob_acumulada = 0\n",
        "for i in range(frecuencia_señal + 1):\n",
        "  prob_acumulada +=(1/(desviacion*math.sqrt(2*math.pi)))*math.exp((-1/2)*((i-media_distribucion)/(desviacion))**2)\n",
        "\n",
        "if prob_acumulada > umbral:\n",
        "  print(\"La señal pasa el filtro\")\n",
        "else:\n",
        "  print(\"La señal es bloqueada por el filtro\")"
      ],
      "metadata": {
        "id": "3TkLCbCnhChD",
        "outputId": "72a2ff3b-d785-4ad8-a048-70105f0393b1",
        "colab": {
          "base_uri": "https://localhost:8080/"
        }
      },
      "execution_count": 14,
      "outputs": [
        {
          "output_type": "stream",
          "name": "stdout",
          "text": [
            "ingrese un valor de frecuencia no negativo: 6000\n",
            "La señal pasa el filtro\n"
          ]
        }
      ]
    }
  ]
}