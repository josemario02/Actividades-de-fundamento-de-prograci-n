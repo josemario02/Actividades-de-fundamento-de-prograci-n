{
  "nbformat": 4,
  "nbformat_minor": 0,
  "metadata": {
    "colab": {
      "provenance": [],
      "authorship_tag": "ABX9TyNoP0g3p2Neb9PuW2xw547t",
      "include_colab_link": true
    },
    "kernelspec": {
      "name": "python3",
      "display_name": "Python 3"
    },
    "language_info": {
      "name": "python"
    }
  },
  "cells": [
    {
      "cell_type": "markdown",
      "metadata": {
        "id": "view-in-github",
        "colab_type": "text"
      },
      "source": [
        "<a href=\"https://colab.research.google.com/github/josemario02/Actividades-de-fundamento-de-prograci-n/blob/main/Actividad_3_000552420.ipynb\" target=\"_parent\"><img src=\"https://colab.research.google.com/assets/colab-badge.svg\" alt=\"Open In Colab\"/></a>"
      ]
    },
    {
      "cell_type": "markdown",
      "source": [
        "## Actividad Evaluativa 3\n",
        "\n",
        " *Fecha:* 22 de marzo de 2024\n",
        "\n",
        " *Presentado por:* Jose Mario Ramos Araujo\n",
        "\n",
        " *Email:* jose.ramosa@upb.edu.co"
      ],
      "metadata": {
        "id": "rzenJdnreNWn"
      }
    },
    {
      "cell_type": "code",
      "source": [
        "import math"
      ],
      "metadata": {
        "id": "SALFWC4xiaJX"
      },
      "execution_count": null,
      "outputs": []
    }
  ]
}